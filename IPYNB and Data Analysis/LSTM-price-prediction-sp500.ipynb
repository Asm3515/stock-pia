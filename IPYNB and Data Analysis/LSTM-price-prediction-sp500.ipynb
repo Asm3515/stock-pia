{
 "cells": [
  {
   "cell_type": "markdown",
   "metadata": {},
   "source": [
    "Import neccessary libraries "
   ]
  },
  {
   "cell_type": "code",
   "execution_count": null,
   "metadata": {
    "vscode": {
     "languageId": "powershell"
    }
   },
   "outputs": [],
   "source": [
    "pip install -r requirements.txt"
   ]
  },
  {
   "cell_type": "code",
   "execution_count": 1,
   "metadata": {},
   "outputs": [],
   "source": [
    "import pandas as pd\n",
    "import numpy as np\n",
    "import yfinance as yf\n",
    "\n",
    "import matplotlib.pyplot as plt\n",
    "import matplotlib.dates as mdates\n",
    "\n",
    "from tensorflow.keras.models import Sequential\n",
    "from tensorflow.keras.layers import Dense\n",
    "from tensorflow.keras.layers import LSTM\n",
    "from tensorflow.keras.layers import Dropout\n",
    "from tensorflow.keras.layers import *\n",
    "from tensorflow.keras.callbacks import EarlyStopping\n",
    "from tensorflow.keras.metrics import RootMeanSquaredError, MeanAbsoluteError\n",
    "\n",
    "from sklearn.preprocessing import MinMaxScaler, StandardScaler\n",
    "from sklearn.metrics import mean_squared_error\n",
    "from sklearn.metrics import mean_absolute_percentage_error\n",
    "from sklearn.model_selection import train_test_split\n",
    "from sklearn.model_selection import TimeSeriesSplit\n",
    "\n",
    "\n",
    "\n",
    "import warnings\n",
    "warnings.filterwarnings('ignore')"
   ]
  },
  {
   "cell_type": "markdown",
   "metadata": {},
   "source": [
    "--------------\n",
    "Data taken from 1999-2019 (20 Year Period)\n",
    "\n",
    "2020 will only be presented once testing is finalized."
   ]
  },
  {
   "cell_type": "code",
   "execution_count": 3,
   "metadata": {},
   "outputs": [
    {
     "name": "stderr",
     "output_type": "stream",
     "text": [
      "[*********************100%%**********************]  1 of 1 completed\n"
     ]
    },
    {
     "data": {
      "text/html": [
       "<div>\n",
       "<style scoped>\n",
       "    .dataframe tbody tr th:only-of-type {\n",
       "        vertical-align: middle;\n",
       "    }\n",
       "\n",
       "    .dataframe tbody tr th {\n",
       "        vertical-align: top;\n",
       "    }\n",
       "\n",
       "    .dataframe thead th {\n",
       "        text-align: right;\n",
       "    }\n",
       "</style>\n",
       "<table border=\"1\" class=\"dataframe\">\n",
       "  <thead>\n",
       "    <tr style=\"text-align: right;\">\n",
       "      <th></th>\n",
       "      <th>Open</th>\n",
       "      <th>High</th>\n",
       "      <th>Low</th>\n",
       "      <th>Close</th>\n",
       "      <th>Adj Close</th>\n",
       "      <th>Volume</th>\n",
       "    </tr>\n",
       "    <tr>\n",
       "      <th>Date</th>\n",
       "      <th></th>\n",
       "      <th></th>\n",
       "      <th></th>\n",
       "      <th></th>\n",
       "      <th></th>\n",
       "      <th></th>\n",
       "    </tr>\n",
       "  </thead>\n",
       "  <tbody>\n",
       "    <tr>\n",
       "      <th>1999-01-04</th>\n",
       "      <td>1229.229980</td>\n",
       "      <td>1248.810059</td>\n",
       "      <td>1219.099976</td>\n",
       "      <td>1228.099976</td>\n",
       "      <td>1228.099976</td>\n",
       "      <td>877000000</td>\n",
       "    </tr>\n",
       "    <tr>\n",
       "      <th>1999-01-05</th>\n",
       "      <td>1228.099976</td>\n",
       "      <td>1246.109985</td>\n",
       "      <td>1228.099976</td>\n",
       "      <td>1244.780029</td>\n",
       "      <td>1244.780029</td>\n",
       "      <td>775000000</td>\n",
       "    </tr>\n",
       "    <tr>\n",
       "      <th>1999-01-06</th>\n",
       "      <td>1244.780029</td>\n",
       "      <td>1272.500000</td>\n",
       "      <td>1244.780029</td>\n",
       "      <td>1272.339966</td>\n",
       "      <td>1272.339966</td>\n",
       "      <td>986900000</td>\n",
       "    </tr>\n",
       "    <tr>\n",
       "      <th>1999-01-07</th>\n",
       "      <td>1272.339966</td>\n",
       "      <td>1272.339966</td>\n",
       "      <td>1257.680054</td>\n",
       "      <td>1269.729980</td>\n",
       "      <td>1269.729980</td>\n",
       "      <td>863000000</td>\n",
       "    </tr>\n",
       "    <tr>\n",
       "      <th>1999-01-08</th>\n",
       "      <td>1269.729980</td>\n",
       "      <td>1278.239990</td>\n",
       "      <td>1261.819946</td>\n",
       "      <td>1275.089966</td>\n",
       "      <td>1275.089966</td>\n",
       "      <td>937800000</td>\n",
       "    </tr>\n",
       "  </tbody>\n",
       "</table>\n",
       "</div>"
      ],
      "text/plain": [
       "                   Open         High          Low        Close    Adj Close  \\\n",
       "Date                                                                          \n",
       "1999-01-04  1229.229980  1248.810059  1219.099976  1228.099976  1228.099976   \n",
       "1999-01-05  1228.099976  1246.109985  1228.099976  1244.780029  1244.780029   \n",
       "1999-01-06  1244.780029  1272.500000  1244.780029  1272.339966  1272.339966   \n",
       "1999-01-07  1272.339966  1272.339966  1257.680054  1269.729980  1269.729980   \n",
       "1999-01-08  1269.729980  1278.239990  1261.819946  1275.089966  1275.089966   \n",
       "\n",
       "               Volume  \n",
       "Date                   \n",
       "1999-01-04  877000000  \n",
       "1999-01-05  775000000  \n",
       "1999-01-06  986900000  \n",
       "1999-01-07  863000000  \n",
       "1999-01-08  937800000  "
      ]
     },
     "execution_count": 3,
     "metadata": {},
     "output_type": "execute_result"
    }
   ],
   "source": [
    "#Downloading of data from Yahoo Finance which will be used for model training\n",
    "end = '2019-12-31'\n",
    "start = '1999-01-02'\n",
    "\n",
    "trainingData = yf.download('^GSPC', start=start, end=end)\n",
    "trainingData.head()"
   ]
  },
  {
   "cell_type": "code",
   "execution_count": 4,
   "metadata": {},
   "outputs": [
    {
     "name": "stderr",
     "output_type": "stream",
     "text": [
      "[*********************100%%**********************]  1 of 1 completed\n"
     ]
    },
    {
     "data": {
      "text/html": [
       "<div>\n",
       "<style scoped>\n",
       "    .dataframe tbody tr th:only-of-type {\n",
       "        vertical-align: middle;\n",
       "    }\n",
       "\n",
       "    .dataframe tbody tr th {\n",
       "        vertical-align: top;\n",
       "    }\n",
       "\n",
       "    .dataframe thead th {\n",
       "        text-align: right;\n",
       "    }\n",
       "</style>\n",
       "<table border=\"1\" class=\"dataframe\">\n",
       "  <thead>\n",
       "    <tr style=\"text-align: right;\">\n",
       "      <th></th>\n",
       "      <th>Open</th>\n",
       "      <th>High</th>\n",
       "      <th>Low</th>\n",
       "      <th>Close</th>\n",
       "      <th>Adj Close</th>\n",
       "      <th>Volume</th>\n",
       "    </tr>\n",
       "    <tr>\n",
       "      <th>Date</th>\n",
       "      <th></th>\n",
       "      <th></th>\n",
       "      <th></th>\n",
       "      <th></th>\n",
       "      <th></th>\n",
       "      <th></th>\n",
       "    </tr>\n",
       "  </thead>\n",
       "  <tbody>\n",
       "    <tr>\n",
       "      <th>2020-01-02</th>\n",
       "      <td>3244.669922</td>\n",
       "      <td>3258.139893</td>\n",
       "      <td>3235.530029</td>\n",
       "      <td>3257.850098</td>\n",
       "      <td>3257.850098</td>\n",
       "      <td>3459930000</td>\n",
       "    </tr>\n",
       "    <tr>\n",
       "      <th>2020-01-03</th>\n",
       "      <td>3226.360107</td>\n",
       "      <td>3246.149902</td>\n",
       "      <td>3222.340088</td>\n",
       "      <td>3234.850098</td>\n",
       "      <td>3234.850098</td>\n",
       "      <td>3484700000</td>\n",
       "    </tr>\n",
       "    <tr>\n",
       "      <th>2020-01-06</th>\n",
       "      <td>3217.550049</td>\n",
       "      <td>3246.840088</td>\n",
       "      <td>3214.639893</td>\n",
       "      <td>3246.280029</td>\n",
       "      <td>3246.280029</td>\n",
       "      <td>3702460000</td>\n",
       "    </tr>\n",
       "    <tr>\n",
       "      <th>2020-01-07</th>\n",
       "      <td>3241.860107</td>\n",
       "      <td>3244.909912</td>\n",
       "      <td>3232.429932</td>\n",
       "      <td>3237.179932</td>\n",
       "      <td>3237.179932</td>\n",
       "      <td>3435910000</td>\n",
       "    </tr>\n",
       "    <tr>\n",
       "      <th>2020-01-08</th>\n",
       "      <td>3238.590088</td>\n",
       "      <td>3267.070068</td>\n",
       "      <td>3236.669922</td>\n",
       "      <td>3253.050049</td>\n",
       "      <td>3253.050049</td>\n",
       "      <td>3726840000</td>\n",
       "    </tr>\n",
       "  </tbody>\n",
       "</table>\n",
       "</div>"
      ],
      "text/plain": [
       "                   Open         High          Low        Close    Adj Close  \\\n",
       "Date                                                                          \n",
       "2020-01-02  3244.669922  3258.139893  3235.530029  3257.850098  3257.850098   \n",
       "2020-01-03  3226.360107  3246.149902  3222.340088  3234.850098  3234.850098   \n",
       "2020-01-06  3217.550049  3246.840088  3214.639893  3246.280029  3246.280029   \n",
       "2020-01-07  3241.860107  3244.909912  3232.429932  3237.179932  3237.179932   \n",
       "2020-01-08  3238.590088  3267.070068  3236.669922  3253.050049  3253.050049   \n",
       "\n",
       "                Volume  \n",
       "Date                    \n",
       "2020-01-02  3459930000  \n",
       "2020-01-03  3484700000  \n",
       "2020-01-06  3702460000  \n",
       "2020-01-07  3435910000  \n",
       "2020-01-08  3726840000  "
      ]
     },
     "execution_count": 4,
     "metadata": {},
     "output_type": "execute_result"
    }
   ],
   "source": [
    "#Downloading of data from Yahoo Finance which will be used for model testing\n",
    "end = '2024-03-25'\n",
    "start = '2020-01-02'\n",
    "\n",
    "testingData = yf.download('^GSPC', start=start, end=end)\n",
    "testingData.head()"
   ]
  },
  {
   "cell_type": "code",
   "execution_count": 5,
   "metadata": {},
   "outputs": [],
   "source": [
    "#Prediction will take place on Adj Close price, therefore we must isolate Adj Close.\n",
    "trainprice = trainingData['Adj Close']\n",
    "trainData = trainprice.values\n",
    "\n",
    "testprice = testingData['Adj Close']\n",
    "testData = testprice.values"
   ]
  },
  {
   "cell_type": "code",
   "execution_count": 6,
   "metadata": {},
   "outputs": [
    {
     "data": {
      "text/plain": [
       "array([1228.09997559, 1244.7800293 , 1272.33996582, ..., 3239.90991211,\n",
       "       3240.02001953, 3221.29003906])"
      ]
     },
     "execution_count": 6,
     "metadata": {},
     "output_type": "execute_result"
    }
   ],
   "source": [
    "trainData\n"
   ]
  },
  {
   "cell_type": "markdown",
   "metadata": {},
   "source": [
    "Plotting of High vs Low"
   ]
  },
  {
   "cell_type": "code",
   "execution_count": 7,
   "metadata": {},
   "outputs": [
    {
     "data": {
      "image/png": "[encoded data removed]",
      "text/plain": [
       "<Figure size 1000x1000 with 1 Axes>"
      ]
     },
     "metadata": {},
     "output_type": "display_data"
    }
   ],
   "source": [
    "plt.figure(figsize=(10,10))\n",
    "plt.gca().xaxis.set_major_formatter(mdates.DateFormatter('%Y-%m-%d'))\n",
    "plt.gca().yaxis.set_major_locator(mdates.DayLocator(interval=200))\n",
    "\n",
    "plt.plot(trainingData.index, trainingData['Adj Close'], label='Train Data Actual Adj Close')\n",
    "plt.plot(testingData.index, testingData['Adj Close'], label='Test Data Actual Adj Close')\n",
    "plt.xlabel('Date')\n",
    "plt.ylabel('USD')\n",
    "plt.legend()\n",
    "plt.gcf().autofmt_xdate()\n",
    "plt.show()"
   ]
  },
  {
   "cell_type": "code",
   "execution_count": 8,
   "metadata": {},
   "outputs": [],
   "source": [
    "sc = MinMaxScaler(feature_range=(0,1))\n",
    "trainDataScaled = sc.fit_transform(trainData.reshape(-1, 1))\n",
    "testDataScaled = sc.fit_transform(testData.reshape(-1, 1))"
   ]
  },
  {
   "cell_type": "code",
   "execution_count": 9,
   "metadata": {},
   "outputs": [],
   "source": [
    "n_steps = 20\n",
    "\n",
    "xTrain, yTrain = [], []\n",
    "\n",
    "for i in range(n_steps, len(trainDataScaled)):\n",
    "    xTrain.append(trainDataScaled[i-n_steps:i, 0])\n",
    "    yTrain.append(trainDataScaled[i, 0])\n",
    "      \n",
    "xTrain, yTrain = np.array(xTrain), np.array(yTrain)\n",
    "xTrain = np.reshape(xTrain, (xTrain.shape[0], xTrain.shape[1], 1))\n"
   ]
  },
  {
   "cell_type": "code",
   "execution_count": 10,
   "metadata": {},
   "outputs": [
    {
     "name": "stderr",
     "output_type": "stream",
     "text": [
      "2024-03-26 14:45:51.133252: I tensorflow/core/platform/cpu_feature_guard.cc:193] This TensorFlow binary is optimized with oneAPI Deep Neural Network Library (oneDNN) to use the following CPU instructions in performance-critical operations:  SSE4.1 SSE4.2\n",
      "To enable them in other operations, rebuild TensorFlow with the appropriate compiler flags.\n"
     ]
    },
    {
     "name": "stdout",
     "output_type": "stream",
     "text": [
      "Model: \"sequential\"\n",
      "_________________________________________________________________\n",
      " Layer (type)                Output Shape              Param #   \n",
      "=================================================================\n",
      " lstm (LSTM)                 (None, 20, 200)           161600    \n",
      "                                                                 \n",
      " dropout (Dropout)           (None, 20, 200)           0         \n",
      "                                                                 \n",
      " lstm_1 (LSTM)               (None, 20, 200)           320800    \n",
      "                                                                 \n",
      " dropout_1 (Dropout)         (None, 20, 200)           0         \n",
      "                                                                 \n",
      " lstm_2 (LSTM)               (None, 20, 200)           320800    \n",
      "                                                                 \n",
      " dropout_2 (Dropout)         (None, 20, 200)           0         \n",
      "                                                                 \n",
      " lstm_3 (LSTM)               (None, 200)               320800    \n",
      "                                                                 \n",
      " dropout_3 (Dropout)         (None, 200)               0         \n",
      "                                                                 \n",
      " dense (Dense)               (None, 1)                 201       \n",
      "                                                                 \n",
      "=================================================================\n",
      "Total params: 1,124,201\n",
      "Trainable params: 1,124,201\n",
      "Non-trainable params: 0\n",
      "_________________________________________________________________\n"
     ]
    }
   ],
   "source": [
    "#LSTM Model\n",
    "\n",
    "model = Sequential()\n",
    "\n",
    "#Layer 1\n",
    "model.add(LSTM(units=200,return_sequences=True,input_shape=(xTrain.shape[1], 1)))\n",
    "model.add(Dropout(0.2))\n",
    "#Layer 2\n",
    "model.add(LSTM(units=200,return_sequences=True))\n",
    "model.add(Dropout(0.2))\n",
    "#Layer 3\n",
    "model.add(LSTM(units=200,return_sequences=True))\n",
    "model.add(Dropout(0.2))\n",
    "#Layer 4\n",
    "model.add(LSTM(units=200, return_sequences=False))\n",
    "model.add(Dropout(0.2))\n",
    "#Layer 5\n",
    "model.add(Dense(units=1))\n",
    "model.compile(optimizer='adam',loss='mean_squared_error', metrics=[RootMeanSquaredError(), MeanAbsoluteError()])\n",
    "model.summary()\n",
    "\n",
    "#Early stopping parameters to stop unnecessary training\n",
    "earlyStopping = EarlyStopping(\n",
    "    monitor='val_root_mean_squared_error',\n",
    "    patience=15,\n",
    "    mode='min',\n",
    "    min_delta = 0.000001\n",
    ")\n"
   ]
  },
  {
   "cell_type": "code",
   "execution_count": 11,
   "metadata": {},
   "outputs": [],
   "source": [
    "#Method to plot the training metric vs validation metric\n",
    "def plot_metric(history, metric):\n",
    "    train_metrics = history.history[metric]\n",
    "    val_metrics = history.history['val_'+metric]\n",
    "    epochs = range(1, len(train_metrics) + 1)\n",
    "    plt.plot(epochs, train_metrics)\n",
    "    plt.plot(epochs, val_metrics)\n",
    "    plt.title('Training and validation '+ metric)\n",
    "    plt.xlabel(\"Epochs\")\n",
    "    plt.ylabel(metric)\n",
    "    plt.legend([\"train_\"+metric, 'val_'+metric])\n",
    "    plt.show()"
   ]
  },
  {
   "cell_type": "code",
   "execution_count": 12,
   "metadata": {},
   "outputs": [
    {
     "name": "stdout",
     "output_type": "stream",
     "text": [
      "165/165 [==============================] - 8s 41ms/step - loss: 0.1702 - root_mean_squared_error: 0.4126 - mean_absolute_error: 0.3464\n"
     ]
    }
   ],
   "source": [
    "#Evaluation of model to confirm if parameters set above are valid\n",
    "eval = model.evaluate(xTrain, yTrain)"
   ]
  },
  {
   "cell_type": "code",
   "execution_count": 13,
   "metadata": {},
   "outputs": [
    {
     "data": {
      "text/plain": [
       "5262"
      ]
     },
     "execution_count": 13,
     "metadata": {},
     "output_type": "execute_result"
    }
   ],
   "source": [
    "len(xTrain)"
   ]
  },
  {
   "cell_type": "code",
   "execution_count": 14,
   "metadata": {},
   "outputs": [
    {
     "name": "stdout",
     "output_type": "stream",
     "text": [
      "Epoch 1/100\n",
      "31/31 [==============================] - 19s 438ms/step - loss: 0.0079 - root_mean_squared_error: 0.0891 - mean_absolute_error: 0.0674 - val_loss: 0.0164 - val_root_mean_squared_error: 0.1279 - val_mean_absolute_error: 0.1015\n",
      "Epoch 2/100\n",
      "31/31 [==============================] - 17s 537ms/step - loss: 0.0119 - root_mean_squared_error: 0.1090 - mean_absolute_error: 0.0874 - val_loss: 0.0343 - val_root_mean_squared_error: 0.1851 - val_mean_absolute_error: 0.1651\n",
      "Epoch 3/100\n",
      "31/31 [==============================] - 17s 539ms/step - loss: 0.0089 - root_mean_squared_error: 0.0946 - mean_absolute_error: 0.0810 - val_loss: 0.0057 - val_root_mean_squared_error: 0.0753 - val_mean_absolute_error: 0.0608\n",
      "Epoch 4/100\n",
      "31/31 [==============================] - 19s 627ms/step - loss: 0.0106 - root_mean_squared_error: 0.1031 - mean_absolute_error: 0.0854 - val_loss: 0.1160 - val_root_mean_squared_error: 0.3406 - val_mean_absolute_error: 0.3189\n",
      "Epoch 5/100\n",
      "31/31 [==============================] - 16s 509ms/step - loss: 0.0111 - root_mean_squared_error: 0.1055 - mean_absolute_error: 0.0913 - val_loss: 0.1221 - val_root_mean_squared_error: 0.3494 - val_mean_absolute_error: 0.3288\n",
      "Epoch 6/100\n",
      "31/31 [==============================] - 15s 489ms/step - loss: 0.0084 - root_mean_squared_error: 0.0918 - mean_absolute_error: 0.0783 - val_loss: 0.0785 - val_root_mean_squared_error: 0.2802 - val_mean_absolute_error: 0.2626\n",
      "Epoch 7/100\n",
      "31/31 [==============================] - 16s 523ms/step - loss: 0.0022 - root_mean_squared_error: 0.0474 - mean_absolute_error: 0.0380 - val_loss: 0.0026 - val_root_mean_squared_error: 0.0513 - val_mean_absolute_error: 0.0379\n",
      "Epoch 8/100\n",
      "31/31 [==============================] - 16s 507ms/step - loss: 0.0022 - root_mean_squared_error: 0.0467 - mean_absolute_error: 0.0374 - val_loss: 0.0012 - val_root_mean_squared_error: 0.0346 - val_mean_absolute_error: 0.0293\n",
      "Epoch 9/100\n",
      "31/31 [==============================] - 16s 505ms/step - loss: 0.0038 - root_mean_squared_error: 0.0620 - mean_absolute_error: 0.0492 - val_loss: 0.0221 - val_root_mean_squared_error: 0.1485 - val_mean_absolute_error: 0.1375\n",
      "Epoch 10/100\n",
      "31/31 [==============================] - 16s 508ms/step - loss: 0.0012 - root_mean_squared_error: 0.0347 - mean_absolute_error: 0.0259 - val_loss: 9.8400e-04 - val_root_mean_squared_error: 0.0314 - val_mean_absolute_error: 0.0241\n",
      "Epoch 11/100\n",
      "31/31 [==============================] - 16s 503ms/step - loss: 3.7655e-04 - root_mean_squared_error: 0.0194 - mean_absolute_error: 0.0149 - val_loss: 4.5472e-04 - val_root_mean_squared_error: 0.0213 - val_mean_absolute_error: 0.0170\n",
      "Epoch 12/100\n",
      "31/31 [==============================] - 15s 488ms/step - loss: 4.0445e-04 - root_mean_squared_error: 0.0201 - mean_absolute_error: 0.0156 - val_loss: 0.0010 - val_root_mean_squared_error: 0.0323 - val_mean_absolute_error: 0.0255\n",
      "Epoch 13/100\n",
      "31/31 [==============================] - 16s 517ms/step - loss: 3.4391e-04 - root_mean_squared_error: 0.0185 - mean_absolute_error: 0.0143 - val_loss: 0.0022 - val_root_mean_squared_error: 0.0473 - val_mean_absolute_error: 0.0360\n",
      "Epoch 14/100\n",
      "31/31 [==============================] - 17s 542ms/step - loss: 4.4113e-04 - root_mean_squared_error: 0.0210 - mean_absolute_error: 0.0162 - val_loss: 0.0010 - val_root_mean_squared_error: 0.0320 - val_mean_absolute_error: 0.0239\n",
      "Epoch 15/100\n",
      "31/31 [==============================] - 16s 530ms/step - loss: 4.1647e-04 - root_mean_squared_error: 0.0204 - mean_absolute_error: 0.0159 - val_loss: 0.0011 - val_root_mean_squared_error: 0.0326 - val_mean_absolute_error: 0.0246\n",
      "Epoch 16/100\n",
      "31/31 [==============================] - 16s 508ms/step - loss: 4.6121e-04 - root_mean_squared_error: 0.0215 - mean_absolute_error: 0.0164 - val_loss: 0.0011 - val_root_mean_squared_error: 0.0331 - val_mean_absolute_error: 0.0249\n",
      "Epoch 17/100\n",
      "31/31 [==============================] - 16s 505ms/step - loss: 4.2952e-04 - root_mean_squared_error: 0.0207 - mean_absolute_error: 0.0161 - val_loss: 0.0015 - val_root_mean_squared_error: 0.0392 - val_mean_absolute_error: 0.0292\n",
      "Epoch 18/100\n",
      "31/31 [==============================] - 16s 514ms/step - loss: 5.6820e-04 - root_mean_squared_error: 0.0238 - mean_absolute_error: 0.0184 - val_loss: 0.0012 - val_root_mean_squared_error: 0.0347 - val_mean_absolute_error: 0.0265\n",
      "Epoch 19/100\n",
      "31/31 [==============================] - 15s 496ms/step - loss: 6.2108e-04 - root_mean_squared_error: 0.0249 - mean_absolute_error: 0.0194 - val_loss: 0.0012 - val_root_mean_squared_error: 0.0349 - val_mean_absolute_error: 0.0275\n",
      "Epoch 20/100\n",
      "31/31 [==============================] - 16s 511ms/step - loss: 7.6645e-04 - root_mean_squared_error: 0.0277 - mean_absolute_error: 0.0211 - val_loss: 0.0011 - val_root_mean_squared_error: 0.0337 - val_mean_absolute_error: 0.0282\n",
      "Epoch 21/100\n",
      "31/31 [==============================] - 15s 483ms/step - loss: 0.0014 - root_mean_squared_error: 0.0379 - mean_absolute_error: 0.0296 - val_loss: 0.0022 - val_root_mean_squared_error: 0.0464 - val_mean_absolute_error: 0.0407\n",
      "Epoch 22/100\n",
      "31/31 [==============================] - 16s 519ms/step - loss: 0.0036 - root_mean_squared_error: 0.0597 - mean_absolute_error: 0.0478 - val_loss: 0.0110 - val_root_mean_squared_error: 0.1046 - val_mean_absolute_error: 0.0935\n",
      "Epoch 23/100\n",
      "31/31 [==============================] - 16s 511ms/step - loss: 0.0027 - root_mean_squared_error: 0.0522 - mean_absolute_error: 0.0435 - val_loss: 0.0065 - val_root_mean_squared_error: 0.0804 - val_mean_absolute_error: 0.0754\n",
      "Epoch 24/100\n",
      "31/31 [==============================] - 15s 489ms/step - loss: 3.6556e-04 - root_mean_squared_error: 0.0191 - mean_absolute_error: 0.0144 - val_loss: 0.0012 - val_root_mean_squared_error: 0.0339 - val_mean_absolute_error: 0.0276\n",
      "Epoch 25/100\n",
      "31/31 [==============================] - 18s 581ms/step - loss: 3.4281e-04 - root_mean_squared_error: 0.0185 - mean_absolute_error: 0.0145 - val_loss: 0.0014 - val_root_mean_squared_error: 0.0372 - val_mean_absolute_error: 0.0278\n",
      "Epoch 26/100\n",
      "31/31 [==============================] - 15s 484ms/step - loss: 7.7437e-04 - root_mean_squared_error: 0.0278 - mean_absolute_error: 0.0217 - val_loss: 5.1262e-04 - val_root_mean_squared_error: 0.0226 - val_mean_absolute_error: 0.0170\n"
     ]
    },
    {
     "data": {
      "image/png": "[encoded data removed]",
      "text/plain": [
       "<Figure size 640x480 with 1 Axes>"
      ]
     },
     "metadata": {},
     "output_type": "display_data"
    }
   ],
   "source": [
    "log = model.fit(\n",
    "    xTrain,\n",
    "    yTrain,\n",
    "    epochs=100,\n",
    "    batch_size=128, \n",
    "    validation_split = 0.25, \n",
    "    verbose=1, \n",
    "    callbacks=[earlyStopping], \n",
    "    shuffle=False)\n",
    "plot_metric(log, 'root_mean_squared_error')"
   ]
  },
  {
   "cell_type": "code",
   "execution_count": 15,
   "metadata": {},
   "outputs": [],
   "source": [
    "n_steps = 20\n",
    "\n",
    "xTest = []\n",
    "yTest = []\n",
    "\n",
    "for i in range(n_steps, len(testDataScaled)):\n",
    "    xTest.append(testDataScaled[i-n_steps:i, 0])\n",
    "    yTest.append(testDataScaled[i, 0])\n",
    "      \n",
    "xTest, yTest = np.array(xTest), np.array(yTest)\n",
    "xTest = np.reshape(xTest, (xTest.shape[0], xTest.shape[1], 1))  \n",
    "\n"
   ]
  },
  {
   "cell_type": "code",
   "execution_count": 16,
   "metadata": {},
   "outputs": [
    {
     "name": "stdout",
     "output_type": "stream",
     "text": [
      "33/33 [==============================] - 3s 55ms/step\n"
     ]
    },
    {
     "data": {
      "text/plain": [
       "0.03878986984057196"
      ]
     },
     "execution_count": 16,
     "metadata": {},
     "output_type": "execute_result"
    }
   ],
   "source": [
    "predictions = model.predict(xTest) #Prediction on Data using trained model\n",
    "output = sc.inverse_transform(predictions)\n",
    "rmse = np.sqrt(mean_squared_error(predictions, yTest)) #Calculating of RMSE\n",
    "rmse "
   ]
  },
  {
   "cell_type": "code",
   "execution_count": 17,
   "metadata": {},
   "outputs": [
    {
     "name": "stdout",
     "output_type": "stream",
     "text": [
      "33/33 [==============================] - 1s 42ms/step - loss: 0.0015 - root_mean_squared_error: 0.0388 - mean_absolute_error: 0.0305\n"
     ]
    }
   ],
   "source": [
    "eval = model.evaluate(xTest, yTest) #Calculating of additional metrics (Loss, RMSE, MAE)"
   ]
  },
  {
   "cell_type": "markdown",
   "metadata": {},
   "source": [
    "The following cells are the joining of the actual data + prediction into a single DF "
   ]
  },
  {
   "cell_type": "code",
   "execution_count": 18,
   "metadata": {},
   "outputs": [],
   "source": [
    "df1 = pd.DataFrame(testingData['Adj Close']).astype(float)\n",
    "df1 = df1.iloc[:-20]\n",
    "df1 = df1.reset_index(drop=False)\n",
    "\n",
    "df2 = pd.DataFrame(output, columns = ['Pred Adj Close']).astype(float)\n"
   ]
  },
  {
   "cell_type": "code",
   "execution_count": 19,
   "metadata": {},
   "outputs": [
    {
     "data": {
      "text/html": [
       "<div>\n",
       "<style scoped>\n",
       "    .dataframe tbody tr th:only-of-type {\n",
       "        vertical-align: middle;\n",
       "    }\n",
       "\n",
       "    .dataframe tbody tr th {\n",
       "        vertical-align: top;\n",
       "    }\n",
       "\n",
       "    .dataframe thead th {\n",
       "        text-align: right;\n",
       "    }\n",
       "</style>\n",
       "<table border=\"1\" class=\"dataframe\">\n",
       "  <thead>\n",
       "    <tr style=\"text-align: right;\">\n",
       "      <th></th>\n",
       "      <th>Pred Adj Close</th>\n",
       "    </tr>\n",
       "  </thead>\n",
       "  <tbody>\n",
       "    <tr>\n",
       "      <th>0</th>\n",
       "      <td>3275.343018</td>\n",
       "    </tr>\n",
       "    <tr>\n",
       "      <th>1</th>\n",
       "      <td>3271.638428</td>\n",
       "    </tr>\n",
       "    <tr>\n",
       "      <th>2</th>\n",
       "      <td>3266.742920</td>\n",
       "    </tr>\n",
       "    <tr>\n",
       "      <th>3</th>\n",
       "      <td>3262.150391</td>\n",
       "    </tr>\n",
       "    <tr>\n",
       "      <th>4</th>\n",
       "      <td>3259.802734</td>\n",
       "    </tr>\n",
       "    <tr>\n",
       "      <th>...</th>\n",
       "      <td>...</td>\n",
       "    </tr>\n",
       "    <tr>\n",
       "      <th>1038</th>\n",
       "      <td>4992.191406</td>\n",
       "    </tr>\n",
       "    <tr>\n",
       "      <th>1039</th>\n",
       "      <td>4996.060547</td>\n",
       "    </tr>\n",
       "    <tr>\n",
       "      <th>1040</th>\n",
       "      <td>4999.775391</td>\n",
       "    </tr>\n",
       "    <tr>\n",
       "      <th>1041</th>\n",
       "      <td>5004.183105</td>\n",
       "    </tr>\n",
       "    <tr>\n",
       "      <th>1042</th>\n",
       "      <td>5009.587402</td>\n",
       "    </tr>\n",
       "  </tbody>\n",
       "</table>\n",
       "<p>1043 rows × 1 columns</p>\n",
       "</div>"
      ],
      "text/plain": [
       "      Pred Adj Close\n",
       "0        3275.343018\n",
       "1        3271.638428\n",
       "2        3266.742920\n",
       "3        3262.150391\n",
       "4        3259.802734\n",
       "...              ...\n",
       "1038     4992.191406\n",
       "1039     4996.060547\n",
       "1040     4999.775391\n",
       "1041     5004.183105\n",
       "1042     5009.587402\n",
       "\n",
       "[1043 rows x 1 columns]"
      ]
     },
     "execution_count": 19,
     "metadata": {},
     "output_type": "execute_result"
    }
   ],
   "source": [
    "df2"
   ]
  },
  {
   "cell_type": "code",
   "execution_count": 20,
   "metadata": {},
   "outputs": [],
   "source": [
    "df = df1.join(df2)\n",
    "df = df.set_index('Date')"
   ]
  },
  {
   "cell_type": "code",
   "execution_count": 21,
   "metadata": {},
   "outputs": [
    {
     "data": {
      "text/html": [
       "<div>\n",
       "<style scoped>\n",
       "    .dataframe tbody tr th:only-of-type {\n",
       "        vertical-align: middle;\n",
       "    }\n",
       "\n",
       "    .dataframe tbody tr th {\n",
       "        vertical-align: top;\n",
       "    }\n",
       "\n",
       "    .dataframe thead th {\n",
       "        text-align: right;\n",
       "    }\n",
       "</style>\n",
       "<table border=\"1\" class=\"dataframe\">\n",
       "  <thead>\n",
       "    <tr style=\"text-align: right;\">\n",
       "      <th></th>\n",
       "      <th>Adj Close</th>\n",
       "      <th>Pred Adj Close</th>\n",
       "    </tr>\n",
       "    <tr>\n",
       "      <th>Date</th>\n",
       "      <th></th>\n",
       "      <th></th>\n",
       "    </tr>\n",
       "  </thead>\n",
       "  <tbody>\n",
       "    <tr>\n",
       "      <th>2020-01-02</th>\n",
       "      <td>3257.850098</td>\n",
       "      <td>3275.343018</td>\n",
       "    </tr>\n",
       "    <tr>\n",
       "      <th>2020-01-03</th>\n",
       "      <td>3234.850098</td>\n",
       "      <td>3271.638428</td>\n",
       "    </tr>\n",
       "    <tr>\n",
       "      <th>2020-01-06</th>\n",
       "      <td>3246.280029</td>\n",
       "      <td>3266.742920</td>\n",
       "    </tr>\n",
       "    <tr>\n",
       "      <th>2020-01-07</th>\n",
       "      <td>3237.179932</td>\n",
       "      <td>3262.150391</td>\n",
       "    </tr>\n",
       "    <tr>\n",
       "      <th>2020-01-08</th>\n",
       "      <td>3253.050049</td>\n",
       "      <td>3259.802734</td>\n",
       "    </tr>\n",
       "    <tr>\n",
       "      <th>...</th>\n",
       "      <td>...</td>\n",
       "      <td>...</td>\n",
       "    </tr>\n",
       "    <tr>\n",
       "      <th>2024-02-16</th>\n",
       "      <td>5005.569824</td>\n",
       "      <td>4992.191406</td>\n",
       "    </tr>\n",
       "    <tr>\n",
       "      <th>2024-02-20</th>\n",
       "      <td>4975.509766</td>\n",
       "      <td>4996.060547</td>\n",
       "    </tr>\n",
       "    <tr>\n",
       "      <th>2024-02-21</th>\n",
       "      <td>4981.799805</td>\n",
       "      <td>4999.775391</td>\n",
       "    </tr>\n",
       "    <tr>\n",
       "      <th>2024-02-22</th>\n",
       "      <td>5087.029785</td>\n",
       "      <td>5004.183105</td>\n",
       "    </tr>\n",
       "    <tr>\n",
       "      <th>2024-02-23</th>\n",
       "      <td>5088.799805</td>\n",
       "      <td>5009.587402</td>\n",
       "    </tr>\n",
       "  </tbody>\n",
       "</table>\n",
       "<p>1043 rows × 2 columns</p>\n",
       "</div>"
      ],
      "text/plain": [
       "              Adj Close  Pred Adj Close\n",
       "Date                                   \n",
       "2020-01-02  3257.850098     3275.343018\n",
       "2020-01-03  3234.850098     3271.638428\n",
       "2020-01-06  3246.280029     3266.742920\n",
       "2020-01-07  3237.179932     3262.150391\n",
       "2020-01-08  3253.050049     3259.802734\n",
       "...                 ...             ...\n",
       "2024-02-16  5005.569824     4992.191406\n",
       "2024-02-20  4975.509766     4996.060547\n",
       "2024-02-21  4981.799805     4999.775391\n",
       "2024-02-22  5087.029785     5004.183105\n",
       "2024-02-23  5088.799805     5009.587402\n",
       "\n",
       "[1043 rows x 2 columns]"
      ]
     },
     "execution_count": 21,
     "metadata": {},
     "output_type": "execute_result"
    }
   ],
   "source": [
    "df"
   ]
  },
  {
   "cell_type": "markdown",
   "metadata": {},
   "source": [
    "Results"
   ]
  },
  {
   "cell_type": "code",
   "execution_count": 22,
   "metadata": {},
   "outputs": [
    {
     "data": {
      "image/png": "[encoded data removed]",
      "text/plain": [
       "<Figure size 1000x1000 with 1 Axes>"
      ]
     },
     "metadata": {},
     "output_type": "display_data"
    },
    {
     "data": {
      "image/png": "[encoded data removed]",
      "text/plain": [
       "<Figure size 1000x1000 with 1 Axes>"
      ]
     },
     "metadata": {},
     "output_type": "display_data"
    }
   ],
   "source": [
    "#plotting of graphs - Full Overview\n",
    "\n",
    "train = trainingData['Adj Close']\n",
    "real = df['Adj Close']\n",
    "pred = df['Pred Adj Close']\n",
    "plt.figure(figsize=(10,10))\n",
    "plt.title('SP500 Actual vs Predicted (01/01/2020 - 01/01/2024)')\n",
    "plt.xlabel('Date')\n",
    "plt.ylabel('Adj Close Price ($)')\n",
    "plt.plot(train)\n",
    "plt.plot(real)\n",
    "plt.plot(pred)\n",
    "plt.legend(['Actual Pre-Training', 'Actual Post-Training','LSTM Prediction'], loc='lower right')\n",
    "plt.xticks()\n",
    "plt.show()\n",
    "\n",
    "#plotting of graphs - Full Overview\n",
    "real = df['Adj Close']\n",
    "pred = df['Pred Adj Close']\n",
    "plt.figure(figsize=(10,10))\n",
    "plt.title('SP500 Actual vs Predicted (01/01/2020 - 01/01/2024)')\n",
    "plt.xlabel('Date')\n",
    "plt.ylabel('Adj Close Price ($)')\n",
    "plt.plot(real)\n",
    "plt.plot(pred)\n",
    "plt.legend(['Actual Post-Training','LSTM Prediction'], loc='lower right')\n",
    "plt.xticks()\n",
    "plt.show()"
   ]
  },
  {
   "cell_type": "code",
   "execution_count": 23,
   "metadata": {},
   "outputs": [
    {
     "name": "stdout",
     "output_type": "stream",
     "text": [
      "Test RMSE : 150.25594498223413 , Test MAE 110.33481066110379, Test R2 0.9232143539521479\n"
     ]
    }
   ],
   "source": [
    "from sklearn.metrics import mean_squared_error, mean_absolute_error, r2_score\n",
    "rmse = mean_squared_error(df['Adj Close'], df['Pred Adj Close'], squared=False)\n",
    "\n",
    "mae = mean_absolute_error(df['Adj Close'], df['Pred Adj Close'])\n",
    "\n",
    "r2 = r2_score(df['Adj Close'], df['Pred Adj Close'])\n",
    "\n",
    "print(f\"Test RMSE : {rmse} , Test MAE {mae}, Test R2 {r2}\")\n"
   ]
  },
  {
   "cell_type": "code",
   "execution_count": 24,
   "metadata": {},
   "outputs": [
    {
     "data": {
      "application/vnd.plotly.v1+json": {
       "config": {
        "plotlyServerURL": "https://plot.ly"
       },
       "data": [
        {
         "alignmentgroup": "True",
         "base": [
          "2024-04-01"
         ],
         "hovertemplate": "Resource=Sprint 1<br>Start=%{base}<br>Finish=%{x}<br>Task=%{y}<extra></extra>",
         "legendgroup": "Sprint 1",
         "marker": {
          "color": "#636efa",
          "pattern": {
           "shape": ""
          }
         },
         "name": "Sprint 1",
         "offsetgroup": "Sprint 1",
         "orientation": "h",
         "showlegend": true,
         "textposition": "auto",
         "type": "bar",
         "x": [
          518400000
         ],
         "xaxis": "x",
         "y": [
          "Data Finalization and Storage"
         ],
         "yaxis": "y"
        },
        {
         "alignmentgroup": "True",
         "base": [
          "2024-04-07"
         ],
         "hovertemplate": "Resource=Sprint 2<br>Start=%{base}<br>Finish=%{x}<br>Task=%{y}<extra></extra>",
         "legendgroup": "Sprint 2",
         "marker": {
          "color": "#EF553B",
          "pattern": {
           "shape": ""
          }
         },
         "name": "Sprint 2",
         "offsetgroup": "Sprint 2",
         "orientation": "h",
         "showlegend": true,
         "textposition": "auto",
         "type": "bar",
         "x": [
          518400000
         ],
         "xaxis": "x",
         "y": [
          "ML Algorithm Development"
         ],
         "yaxis": "y"
        },
        {
         "alignmentgroup": "True",
         "base": [
          "2024-04-13"
         ],
         "hovertemplate": "Resource=Sprint 3<br>Start=%{base}<br>Finish=%{x}<br>Task=%{y}<extra></extra>",
         "legendgroup": "Sprint 3",
         "marker": {
          "color": "#00cc96",
          "pattern": {
           "shape": ""
          }
         },
         "name": "Sprint 3",
         "offsetgroup": "Sprint 3",
         "orientation": "h",
         "showlegend": true,
         "textposition": "auto",
         "type": "bar",
         "x": [
          604800000
         ],
         "xaxis": "x",
         "y": [
          "UI Development and Deployment"
         ],
         "yaxis": "y"
        },
        {
         "alignmentgroup": "True",
         "base": [
          "2024-04-20"
         ],
         "hovertemplate": "Resource=Sprint 4<br>Start=%{base}<br>Finish=%{x}<br>Task=%{y}<extra></extra>",
         "legendgroup": "Sprint 4",
         "marker": {
          "color": "#ab63fa",
          "pattern": {
           "shape": ""
          }
         },
         "name": "Sprint 4",
         "offsetgroup": "Sprint 4",
         "orientation": "h",
         "showlegend": true,
         "textposition": "auto",
         "type": "bar",
         "x": [
          604800000
         ],
         "xaxis": "x",
         "y": [
          "Testing and Deployment"
         ],
         "yaxis": "y"
        }
       ],
       "layout": {
        "barmode": "overlay",
        "legend": {
         "title": {
          "text": "Sprint"
         },
         "tracegroupgap": 0
        },
        "template": {
         "data": {
          "bar": [
           {
            "error_x": {
             "color": "#2a3f5f"
            },
            "error_y": {
             "color": "#2a3f5f"
            },
            "marker": {
             "line": {
              "color": "white",
              "width": 0.5
             },
             "pattern": {
              "fillmode": "overlay",
              "size": 10,
              "solidity": 0.2
             }
            },
            "type": "bar"
           }
          ],
          "barpolar": [
           {
            "marker": {
             "line": {
              "color": "white",
              "width": 0.5
             },
             "pattern": {
              "fillmode": "overlay",
              "size": 10,
              "solidity": 0.2
             }
            },
            "type": "barpolar"
           }
          ],
          "carpet": [
           {
            "aaxis": {
             "endlinecolor": "#2a3f5f",
             "gridcolor": "#C8D4E3",
             "linecolor": "#C8D4E3",
             "minorgridcolor": "#C8D4E3",
             "startlinecolor": "#2a3f5f"
            },
            "baxis": {
             "endlinecolor": "#2a3f5f",
             "gridcolor": "#C8D4E3",
             "linecolor": "#C8D4E3",
             "minorgridcolor": "#C8D4E3",
             "startlinecolor": "#2a3f5f"
            },
            "type": "carpet"
           }
          ],
          "choropleth": [
           {
            "colorbar": {
             "outlinewidth": 0,
             "ticks": ""
            },
            "type": "choropleth"
           }
          ],
          "contour": [
           {
            "colorbar": {
             "outlinewidth": 0,
             "ticks": ""
            },
            "colorscale": [
             [
              0,
              "#0d0887"
             ],
             [
              0.1111111111111111,
              "#46039f"
             ],
             [
              0.2222222222222222,
              "#7201a8"
             ],
             [
              0.3333333333333333,
              "#9c179e"
             ],
             [
              0.4444444444444444,
              "#bd3786"
             ],
             [
              0.5555555555555556,
              "#d8576b"
             ],
             [
              0.6666666666666666,
              "#ed7953"
             ],
             [
              0.7777777777777778,
              "#fb9f3a"
             ],
             [
              0.8888888888888888,
              "#fdca26"
             ],
             [
              1,
              "#f0f921"
             ]
            ],
            "type": "contour"
           }
          ],
          "contourcarpet": [
           {
            "colorbar": {
             "outlinewidth": 0,
             "ticks": ""
            },
            "type": "contourcarpet"
           }
          ],
          "heatmap": [
           {
            "colorbar": {
             "outlinewidth": 0,
             "ticks": ""
            },
            "colorscale": [
             [
              0,
              "#0d0887"
             ],
             [
              0.1111111111111111,
              "#46039f"
             ],
             [
              0.2222222222222222,
              "#7201a8"
             ],
             [
              0.3333333333333333,
              "#9c179e"
             ],
             [
              0.4444444444444444,
              "#bd3786"
             ],
             [
              0.5555555555555556,
              "#d8576b"
             ],
             [
              0.6666666666666666,
              "#ed7953"
             ],
             [
              0.7777777777777778,
              "#fb9f3a"
             ],
             [
              0.8888888888888888,
              "#fdca26"
             ],
             [
              1,
              "#f0f921"
             ]
            ],
            "type": "heatmap"
           }
          ],
          "heatmapgl": [
           {
            "colorbar": {
             "outlinewidth": 0,
             "ticks": ""
            },
            "colorscale": [
             [
              0,
              "#0d0887"
             ],
             [
              0.1111111111111111,
              "#46039f"
             ],
             [
              0.2222222222222222,
              "#7201a8"
             ],
             [
              0.3333333333333333,
              "#9c179e"
             ],
             [
              0.4444444444444444,
              "#bd3786"
             ],
             [
              0.5555555555555556,
              "#d8576b"
             ],
             [
              0.6666666666666666,
              "#ed7953"
             ],
             [
              0.7777777777777778,
              "#fb9f3a"
             ],
             [
              0.8888888888888888,
              "#fdca26"
             ],
             [
              1,
              "#f0f921"
             ]
            ],
            "type": "heatmapgl"
           }
          ],
          "histogram": [
           {
            "marker": {
             "pattern": {
              "fillmode": "overlay",
              "size": 10,
              "solidity": 0.2
             }
            },
            "type": "histogram"
           }
          ],
          "histogram2d": [
           {
            "colorbar": {
             "outlinewidth": 0,
             "ticks": ""
            },
            "colorscale": [
             [
              0,
              "#0d0887"
             ],
             [
              0.1111111111111111,
              "#46039f"
             ],
             [
              0.2222222222222222,
              "#7201a8"
             ],
             [
              0.3333333333333333,
              "#9c179e"
             ],
             [
              0.4444444444444444,
              "#bd3786"
             ],
             [
              0.5555555555555556,
              "#d8576b"
             ],
             [
              0.6666666666666666,
              "#ed7953"
             ],
             [
              0.7777777777777778,
              "#fb9f3a"
             ],
             [
              0.8888888888888888,
              "#fdca26"
             ],
             [
              1,
              "#f0f921"
             ]
            ],
            "type": "histogram2d"
           }
          ],
          "histogram2dcontour": [
           {
            "colorbar": {
             "outlinewidth": 0,
             "ticks": ""
            },
            "colorscale": [
             [
              0,
              "#0d0887"
             ],
             [
              0.1111111111111111,
              "#46039f"
             ],
             [
              0.2222222222222222,
              "#7201a8"
             ],
             [
              0.3333333333333333,
              "#9c179e"
             ],
             [
              0.4444444444444444,
              "#bd3786"
             ],
             [
              0.5555555555555556,
              "#d8576b"
             ],
             [
              0.6666666666666666,
              "#ed7953"
             ],
             [
              0.7777777777777778,
              "#fb9f3a"
             ],
             [
              0.8888888888888888,
              "#fdca26"
             ],
             [
              1,
              "#f0f921"
             ]
            ],
            "type": "histogram2dcontour"
           }
          ],
          "mesh3d": [
           {
            "colorbar": {
             "outlinewidth": 0,
             "ticks": ""
            },
            "type": "mesh3d"
           }
          ],
          "parcoords": [
           {
            "line": {
             "colorbar": {
              "outlinewidth": 0,
              "ticks": ""
             }
            },
            "type": "parcoords"
           }
          ],
          "pie": [
           {
            "automargin": true,
            "type": "pie"
           }
          ],
          "scatter": [
           {
            "fillpattern": {
             "fillmode": "overlay",
             "size": 10,
             "solidity": 0.2
            },
            "type": "scatter"
           }
          ],
          "scatter3d": [
           {
            "line": {
             "colorbar": {
              "outlinewidth": 0,
              "ticks": ""
             }
            },
            "marker": {
             "colorbar": {
              "outlinewidth": 0,
              "ticks": ""
             }
            },
            "type": "scatter3d"
           }
          ],
          "scattercarpet": [
           {
            "marker": {
             "colorbar": {
              "outlinewidth": 0,
              "ticks": ""
             }
            },
            "type": "scattercarpet"
           }
          ],
          "scattergeo": [
           {
            "marker": {
             "colorbar": {
              "outlinewidth": 0,
              "ticks": ""
             }
            },
            "type": "scattergeo"
           }
          ],
          "scattergl": [
           {
            "marker": {
             "colorbar": {
              "outlinewidth": 0,
              "ticks": ""
             }
            },
            "type": "scattergl"
           }
          ],
          "scattermapbox": [
           {
            "marker": {
             "colorbar": {
              "outlinewidth": 0,
              "ticks": ""
             }
            },
            "type": "scattermapbox"
           }
          ],
          "scatterpolar": [
           {
            "marker": {
             "colorbar": {
              "outlinewidth": 0,
              "ticks": ""
             }
            },
            "type": "scatterpolar"
           }
          ],
          "scatterpolargl": [
           {
            "marker": {
             "colorbar": {
              "outlinewidth": 0,
              "ticks": ""
             }
            },
            "type": "scatterpolargl"
           }
          ],
          "scatterternary": [
           {
            "marker": {
             "colorbar": {
              "outlinewidth": 0,
              "ticks": ""
             }
            },
            "type": "scatterternary"
           }
          ],
          "surface": [
           {
            "colorbar": {
             "outlinewidth": 0,
             "ticks": ""
            },
            "colorscale": [
             [
              0,
              "#0d0887"
             ],
             [
              0.1111111111111111,
              "#46039f"
             ],
             [
              0.2222222222222222,
              "#7201a8"
             ],
             [
              0.3333333333333333,
              "#9c179e"
             ],
             [
              0.4444444444444444,
              "#bd3786"
             ],
             [
              0.5555555555555556,
              "#d8576b"
             ],
             [
              0.6666666666666666,
              "#ed7953"
             ],
             [
              0.7777777777777778,
              "#fb9f3a"
             ],
             [
              0.8888888888888888,
              "#fdca26"
             ],
             [
              1,
              "#f0f921"
             ]
            ],
            "type": "surface"
           }
          ],
          "table": [
           {
            "cells": {
             "fill": {
              "color": "#EBF0F8"
             },
             "line": {
              "color": "white"
             }
            },
            "header": {
             "fill": {
              "color": "#C8D4E3"
             },
             "line": {
              "color": "white"
             }
            },
            "type": "table"
           }
          ]
         },
         "layout": {
          "annotationdefaults": {
           "arrowcolor": "#2a3f5f",
           "arrowhead": 0,
           "arrowwidth": 1
          },
          "autotypenumbers": "strict",
          "coloraxis": {
           "colorbar": {
            "outlinewidth": 0,
            "ticks": ""
           }
          },
          "colorscale": {
           "diverging": [
            [
             0,
             "#8e0152"
            ],
            [
             0.1,
             "#c51b7d"
            ],
            [
             0.2,
             "#de77ae"
            ],
            [
             0.3,
             "#f1b6da"
            ],
            [
             0.4,
             "#fde0ef"
            ],
            [
             0.5,
             "#f7f7f7"
            ],
            [
             0.6,
             "#e6f5d0"
            ],
            [
             0.7,
             "#b8e186"
            ],
            [
             0.8,
             "#7fbc41"
            ],
            [
             0.9,
             "#4d9221"
            ],
            [
             1,
             "#276419"
            ]
           ],
           "sequential": [
            [
             0,
             "#0d0887"
            ],
            [
             0.1111111111111111,
             "#46039f"
            ],
            [
             0.2222222222222222,
             "#7201a8"
            ],
            [
             0.3333333333333333,
             "#9c179e"
            ],
            [
             0.4444444444444444,
             "#bd3786"
            ],
            [
             0.5555555555555556,
             "#d8576b"
            ],
            [
             0.6666666666666666,
             "#ed7953"
            ],
            [
             0.7777777777777778,
             "#fb9f3a"
            ],
            [
             0.8888888888888888,
             "#fdca26"
            ],
            [
             1,
             "#f0f921"
            ]
           ],
           "sequentialminus": [
            [
             0,
             "#0d0887"
            ],
            [
             0.1111111111111111,
             "#46039f"
            ],
            [
             0.2222222222222222,
             "#7201a8"
            ],
            [
             0.3333333333333333,
             "#9c179e"
            ],
            [
             0.4444444444444444,
             "#bd3786"
            ],
            [
             0.5555555555555556,
             "#d8576b"
            ],
            [
             0.6666666666666666,
             "#ed7953"
            ],
            [
             0.7777777777777778,
             "#fb9f3a"
            ],
            [
             0.8888888888888888,
             "#fdca26"
            ],
            [
             1,
             "#f0f921"
            ]
           ]
          },
          "colorway": [
           "#636efa",
           "#EF553B",
           "#00cc96",
           "#ab63fa",
           "#FFA15A",
           "#19d3f3",
           "#FF6692",
           "#B6E880",
           "#FF97FF",
           "#FECB52"
          ],
          "font": {
           "color": "#2a3f5f"
          },
          "geo": {
           "bgcolor": "white",
           "lakecolor": "white",
           "landcolor": "white",
           "showlakes": true,
           "showland": true,
           "subunitcolor": "#C8D4E3"
          },
          "hoverlabel": {
           "align": "left"
          },
          "hovermode": "closest",
          "mapbox": {
           "style": "light"
          },
          "paper_bgcolor": "white",
          "plot_bgcolor": "white",
          "polar": {
           "angularaxis": {
            "gridcolor": "#EBF0F8",
            "linecolor": "#EBF0F8",
            "ticks": ""
           },
           "bgcolor": "white",
           "radialaxis": {
            "gridcolor": "#EBF0F8",
            "linecolor": "#EBF0F8",
            "ticks": ""
           }
          },
          "scene": {
           "xaxis": {
            "backgroundcolor": "white",
            "gridcolor": "#DFE8F3",
            "gridwidth": 2,
            "linecolor": "#EBF0F8",
            "showbackground": true,
            "ticks": "",
            "zerolinecolor": "#EBF0F8"
           },
           "yaxis": {
            "backgroundcolor": "white",
            "gridcolor": "#DFE8F3",
            "gridwidth": 2,
            "linecolor": "#EBF0F8",
            "showbackground": true,
            "ticks": "",
            "zerolinecolor": "#EBF0F8"
           },
           "zaxis": {
            "backgroundcolor": "white",
            "gridcolor": "#DFE8F3",
            "gridwidth": 2,
            "linecolor": "#EBF0F8",
            "showbackground": true,
            "ticks": "",
            "zerolinecolor": "#EBF0F8"
           }
          },
          "shapedefaults": {
           "line": {
            "color": "#2a3f5f"
           }
          },
          "ternary": {
           "aaxis": {
            "gridcolor": "#DFE8F3",
            "linecolor": "#A2B1C6",
            "ticks": ""
           },
           "baxis": {
            "gridcolor": "#DFE8F3",
            "linecolor": "#A2B1C6",
            "ticks": ""
           },
           "bgcolor": "white",
           "caxis": {
            "gridcolor": "#DFE8F3",
            "linecolor": "#A2B1C6",
            "ticks": ""
           }
          },
          "title": {
           "x": 0.05
          },
          "xaxis": {
           "automargin": true,
           "gridcolor": "#EBF0F8",
           "linecolor": "#EBF0F8",
           "ticks": "",
           "title": {
            "standoff": 15
           },
           "zerolinecolor": "#EBF0F8",
           "zerolinewidth": 2
          },
          "yaxis": {
           "automargin": true,
           "gridcolor": "#EBF0F8",
           "linecolor": "#EBF0F8",
           "ticks": "",
           "title": {
            "standoff": 15
           },
           "zerolinecolor": "#EBF0F8",
           "zerolinewidth": 2
          }
         }
        },
        "title": {
         "text": "Project Sprints Gantt Chart"
        },
        "xaxis": {
         "anchor": "y",
         "domain": [
          0,
          1
         ],
         "title": {
          "text": "Date"
         },
         "type": "date"
        },
        "yaxis": {
         "anchor": "x",
         "autorange": "reversed",
         "domain": [
          0,
          1
         ],
         "title": {
          "text": "Task"
         }
        }
       }
      }
     },
     "metadata": {},
     "output_type": "display_data"
    }
   ],
   "source": [
    "import plotly.express as px\n",
    "import pandas as pd\n",
    "\n",
    "# Define the data for the Gantt chart\n",
    "df = pd.DataFrame([\n",
    "    dict(Task=\"Data Finalization and Storage\", Start='2024-04-01', Finish='2024-04-07', Resource='Sprint 1'),\n",
    "    dict(Task=\"ML Algorithm Development\", Start='2024-04-07', Finish='2024-04-13', Resource='Sprint 2'),\n",
    "    dict(Task=\"UI Development and Deployment\", Start='2024-04-13', Finish='2024-04-20', Resource='Sprint 3'),\n",
    "    dict(Task=\"Testing and Deployment\", Start='2024-04-20', Finish='2024-04-27', Resource='Sprint 4')\n",
    "])\n",
    "\n",
    "# Create a Gantt chart\n",
    "fig = px.timeline(df, x_start=\"Start\", x_end=\"Finish\", y=\"Task\", color=\"Resource\",\n",
    "                  title='Project Sprints Gantt Chart')\n",
    "\n",
    "# Update the layout for better readability\n",
    "fig.update_yaxes(autorange=\"reversed\") \n",
    "fig.update_layout(xaxis_title='Date', yaxis_title='Task', \n",
    "                  legend_title='Sprint',\n",
    "                  template='plotly_white')\n",
    "fig.show()\n"
   ]
  },
  {
   "cell_type": "code",
   "execution_count": null,
   "metadata": {},
   "outputs": [],
   "source": []
  }
 ],
 "metadata": {
  "kernelspec": {
   "display_name": "Python 3",
   "language": "python",
   "name": "python3"
  },
  "language_info": {
   "codemirror_mode": {
    "name": "ipython",
    "version": 3
   },
   "file_extension": ".py",
   "mimetype": "text/x-python",
   "name": "python",
   "nbconvert_exporter": "python",
   "pygments_lexer": "ipython3",
   "version": "3.10.4"
  },
  "orig_nbformat": 4,
  "vscode": {
   "interpreter": {
    "hash": "b874e40f92f6bba931d0c5991740d518e5503effa02f0b8be21a8908ce9eca6b"
   }
  }
 },
 "nbformat": 4,
 "nbformat_minor": 2
}
